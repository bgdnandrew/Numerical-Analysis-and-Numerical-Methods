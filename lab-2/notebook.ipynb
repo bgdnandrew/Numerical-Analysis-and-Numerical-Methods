{
 "cells": [
  {
   "cell_type": "markdown",
   "metadata": {},
   "source": [
    "<h2>Lab 2</h2>\n",
    "<h3>Fixed Point Iteration</h3>\n",
    "<ul>\n",
    "<li>Explainer video: <a href=\"https://youtu.be/OLqdJMjzib8\">https://youtu.be/OLqdJMjzib8</a></li>\n",
    "<li>Wikipedia: <a href=\"https://en.wikipedia.org/wiki/Fixed-point_iteration\">https://en.wikipedia.org/wiki/Fixed-point_iteration</a></li>\n",
    "<li>Brouwer's Fixed Point Theorem Explained: <a href=\"https://youtu.be/PwIDFSC1KzI\">https://youtu.be/PwIDFSC1KzI</a></li>\n",
    "<li>Wikipedia <a href=\"https://en.wikipedia.org/wiki/Brouwer_fixed-point_theorem\">https://en.wikipedia.org/wiki/Brouwer_fixed-point_theorem</a></li>\n",
    "</ul>"
   ]
  },
  {
   "cell_type": "markdown",
   "metadata": {},
   "source": [
    "<h3>Non-Linear Equations. The Newton-Raphson Method.</h3>\n",
    "<ul>\n",
    "<li>Explainer video: <a href=\"https://youtu.be/PIPiv6gn_Ls\">https://youtu.be/PIPiv6gn_Ls</a></li>\n",
    "<li>Explainer video 2: <a href=\"https://youtu.be/cf_NK7NlWrs\">https://youtu.be/cf_NK7NlWrs</a></li>\n"
   ]
  }
 ],
 "metadata": {
  "kernelspec": {
   "display_name": "Python 3.10.1 ('an-num-deIXAMpC')",
   "language": "python",
   "name": "python3"
  },
  "language_info": {
   "name": "python",
   "version": "3.10.1"
  },
  "orig_nbformat": 4,
  "vscode": {
   "interpreter": {
    "hash": "a1eb1fe896b36d3af9c1233e5ddbf06e8f1a3a2d1df51f8106dfc8c26c1d448a"
   }
  }
 },
 "nbformat": 4,
 "nbformat_minor": 2
}
