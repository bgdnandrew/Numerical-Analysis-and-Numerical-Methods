{
 "cells": [
  {
   "cell_type": "markdown",
   "metadata": {},
   "source": [
    "<h2>Nonlinear Equations: The Secant Method</h2>\n",
    "<ul>\n",
    "<li>Secant method is a root-finding algorithm that uses a succession of roots of secant lines to better approximate a root of a function.</li>\n",
    "<li>It is a root-finding method that uses information from two points to estimate the next point.</li>\n",
    "<li>It is a fast converging method, but it is less robust than the Newton-Raphson method (which is the fastest)</li>\n",
    "<li>Explainer Video: <a href=\"https://youtu.be/Zz8AYQ8c5-U\">https://youtu.be/Zz8AYQ8c5-U</a></li>"
   ]
  },
  {
   "cell_type": "markdown",
   "metadata": {},
   "source": [
    "<h2>False Position Method (Regula Falsi)</h2>\n",
    "<ul>\n",
    "<li>False position method is a root-finding algorithm that uses a succession of roots of secant lines to better approximate a root of a function.</li>\n",
    "<li>It is a root-finding method that uses information from two points to estimate the next point.</li>\n",
    "<li>It is a fast converging method, but it is less robust than the Newton-Raphson method.</li>\n",
    "<li>Explainer Video: <a href=\"https://youtu.be/pg1I8AG59Ik\">https://youtu.be/pg1I8AG59Ik</a></li>\n",
    "</ul>"
   ]
  }
 ],
 "metadata": {
  "kernelspec": {
   "display_name": "Python 3.10.1 ('an-num-deIXAMpC')",
   "language": "python",
   "name": "python3"
  },
  "language_info": {
   "name": "python",
   "version": "3.10.1"
  },
  "orig_nbformat": 4,
  "vscode": {
   "interpreter": {
    "hash": "a1eb1fe896b36d3af9c1233e5ddbf06e8f1a3a2d1df51f8106dfc8c26c1d448a"
   }
  }
 },
 "nbformat": 4,
 "nbformat_minor": 2
}
