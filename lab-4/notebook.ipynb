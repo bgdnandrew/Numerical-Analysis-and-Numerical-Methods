{
 "cells": [
  {
   "cell_type": "markdown",
   "metadata": {},
   "source": [
    "<li><a href=\"https://youtu.be/BTYTj0r5PZE\">https://youtu.be/BTYTj0r5PZE</a></li>"
   ]
  }
 ],
 "metadata": {
  "language_info": {
   "name": "python"
  },
  "orig_nbformat": 4
 },
 "nbformat": 4,
 "nbformat_minor": 2
}
